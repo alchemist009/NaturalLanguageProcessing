{
 "cells": [
  {
   "cell_type": "code",
   "execution_count": null,
   "metadata": {
    "collapsed": true
   },
   "outputs": [],
   "source": []
  },
  {
   "cell_type": "code",
   "execution_count": null,
   "metadata": {},
   "outputs": [
    {
     "name": "stdout",
     "output_type": "stream",
     "text": [
      "Collecting pattern\n",
      "  Downloading https://files.pythonhosted.org/packages/bf/50/d09941d53416f2a86676bd0dc341d5968b599a763b73f5d13f51c57b5641/pattern-2.6.zip (24.6MB)\n",
      "\u001b[K    99% |████████████████████████████████| 24.6MB 3.6MB/s eta 0:00:011"
     ]
    }
   ],
   "source": [
    "!pip install pattern"
   ]
  },
  {
   "cell_type": "code",
   "execution_count": 2,
   "metadata": {},
   "outputs": [
    {
     "name": "stdout",
     "output_type": "stream",
     "text": [
      "Collecting pip\n",
      "  Downloading https://files.pythonhosted.org/packages/62/a1/0d452b6901b0157a0134fd27ba89bf95a857fbda64ba52e1ca2cf61d8412/pip-10.0.0-py2.py3-none-any.whl (1.3MB)\n",
      "\u001b[K    100% |████████████████████████████████| 1.3MB 409kB/s eta 0:00:01\n",
      "\u001b[?25hInstalling collected packages: pip\n",
      "  Found existing installation: pip 9.0.3\n",
      "    Uninstalling pip-9.0.3:\n",
      "      Successfully uninstalled pip-9.0.3\n",
      "Successfully installed pip-10.0.0\n"
     ]
    }
   ],
   "source": [
    "!pip install --upgrade pip"
   ]
  },
  {
   "cell_type": "code",
   "execution_count": null,
   "metadata": {},
   "outputs": [],
   "source": []
  },
  {
   "cell_type": "code",
   "execution_count": 4,
   "metadata": {},
   "outputs": [
    {
     "ename": "ImportError",
     "evalue": "No module named pattern.en",
     "output_type": "error",
     "traceback": [
      "\u001b[0;31m\u001b[0m",
      "\u001b[0;31mImportError\u001b[0mTraceback (most recent call last)",
      "\u001b[0;32m<ipython-input-4-f16b076a7567>\u001b[0m in \u001b[0;36m<module>\u001b[0;34m()\u001b[0m\n\u001b[0;32m----> 1\u001b[0;31m \u001b[0;32mfrom\u001b[0m \u001b[0mpattern\u001b[0m\u001b[0;34m.\u001b[0m\u001b[0men\u001b[0m \u001b[0;32mimport\u001b[0m \u001b[0mparse\u001b[0m\u001b[0;34m,\u001b[0m \u001b[0mpprint\u001b[0m\u001b[0;34m,\u001b[0m \u001b[0mparsetree\u001b[0m\u001b[0;34m,\u001b[0m \u001b[0mwordnet\u001b[0m\u001b[0;34m\u001b[0m\u001b[0m\n\u001b[0m\u001b[1;32m      2\u001b[0m \u001b[0;34m\u001b[0m\u001b[0m\n\u001b[1;32m      3\u001b[0m \u001b[0;32mfrom\u001b[0m \u001b[0mpattern\u001b[0m\u001b[0;34m.\u001b[0m\u001b[0mvector\u001b[0m \u001b[0;32mimport\u001b[0m \u001b[0mDocument\u001b[0m\u001b[0;34m,\u001b[0m \u001b[0mModel\u001b[0m\u001b[0;34m,\u001b[0m \u001b[0mTFIDF\u001b[0m\u001b[0;34m\u001b[0m\u001b[0m\n\u001b[1;32m      4\u001b[0m \u001b[0;32mfrom\u001b[0m \u001b[0mpattern\u001b[0m\u001b[0;34m.\u001b[0m\u001b[0mvector\u001b[0m \u001b[0;32mimport\u001b[0m \u001b[0mstem\u001b[0m\u001b[0;34m,\u001b[0m \u001b[0mPORTER\u001b[0m\u001b[0;34m,\u001b[0m \u001b[0mLEMMA\u001b[0m\u001b[0;34m\u001b[0m\u001b[0m\n\u001b[1;32m      5\u001b[0m \u001b[0;32mfrom\u001b[0m \u001b[0mpattern\u001b[0m\u001b[0;34m.\u001b[0m\u001b[0mvector\u001b[0m \u001b[0;32mimport\u001b[0m \u001b[0mSVM\u001b[0m\u001b[0;34m,\u001b[0m \u001b[0mRADIAL\u001b[0m\u001b[0;34m,\u001b[0m \u001b[0mgridsearch\u001b[0m\u001b[0;34m,\u001b[0m \u001b[0mkfoldcv\u001b[0m\u001b[0;34m,\u001b[0m \u001b[0mcount\u001b[0m\u001b[0;34m\u001b[0m\u001b[0m\n",
      "\u001b[0;31mImportError\u001b[0m: No module named pattern.en"
     ]
    }
   ],
   "source": [
    "from pattern.en import parse, pprint, parsetree, wordnet\n",
    "\n",
    "from pattern.vector import Document, Model, TFIDF\n",
    "from pattern.vector import stem, PORTER, LEMMA\n",
    "from pattern.vector import SVM, RADIAL, gridsearch, kfoldcv, count\n",
    "\n",
    "# For Latent Semantic Analysis (LSA)\n",
    "from numpy.linalg import svd\n",
    "from numpy import dot, diag\n",
    "\n",
    "import re"
   ]
  },
  {
   "cell_type": "code",
   "execution_count": null,
   "metadata": {},
   "outputs": [],
   "source": []
  },
  {
   "cell_type": "code",
   "execution_count": 112,
   "metadata": {},
   "outputs": [],
   "source": [
    "sentence = \"This is a test sentence that will be used to parse into a parse tree and various other things like spies.\""
   ]
  },
  {
   "cell_type": "code",
   "execution_count": null,
   "metadata": {},
   "outputs": [],
   "source": []
  },
  {
   "cell_type": "code",
   "execution_count": 1,
   "metadata": {},
   "outputs": [],
   "source": [
    "qlines = list()\n",
    "alines = list()\n",
    "corpus = list()"
   ]
  },
  {
   "cell_type": "code",
   "execution_count": 2,
   "metadata": {},
   "outputs": [],
   "source": [
    "def readAndCreateCorpus():\n",
    "    with open(\"FAQs.txt\") as f:\n",
    "        for line in f:\n",
    "            if(re.match('^[0-9]', line)):\n",
    "                qlines.append(line)\n",
    "                pass\n",
    "            elif(re.match('^[A.]', line)):\n",
    "                alines.append(line)\n",
    "                pass\n",
    "            pass\n",
    "        pass\n",
    "    \n",
    "    for i in range(len(qlines)):\n",
    "        corpus.append(qlines[i] + alines[i])\n",
    "        pass\n",
    "    pass"
   ]
  },
  {
   "cell_type": "code",
   "execution_count": 3,
   "metadata": {},
   "outputs": [
    {
     "ename": "NameError",
     "evalue": "global name 're' is not defined",
     "output_type": "error",
     "traceback": [
      "\u001b[0;31m\u001b[0m",
      "\u001b[0;31mNameError\u001b[0mTraceback (most recent call last)",
      "\u001b[0;32m<ipython-input-3-633dc2e24f30>\u001b[0m in \u001b[0;36m<module>\u001b[0;34m()\u001b[0m\n\u001b[0;32m----> 1\u001b[0;31m \u001b[0mreadAndCreateCorpus\u001b[0m\u001b[0;34m(\u001b[0m\u001b[0;34m)\u001b[0m\u001b[0;34m\u001b[0m\u001b[0m\n\u001b[0m",
      "\u001b[0;32m<ipython-input-2-7b9121afb988>\u001b[0m in \u001b[0;36mreadAndCreateCorpus\u001b[0;34m()\u001b[0m\n\u001b[1;32m      2\u001b[0m     \u001b[0;32mwith\u001b[0m \u001b[0mopen\u001b[0m\u001b[0;34m(\u001b[0m\u001b[0;34m\"FAQs.txt\"\u001b[0m\u001b[0;34m)\u001b[0m \u001b[0;32mas\u001b[0m \u001b[0mf\u001b[0m\u001b[0;34m:\u001b[0m\u001b[0;34m\u001b[0m\u001b[0m\n\u001b[1;32m      3\u001b[0m         \u001b[0;32mfor\u001b[0m \u001b[0mline\u001b[0m \u001b[0;32min\u001b[0m \u001b[0mf\u001b[0m\u001b[0;34m:\u001b[0m\u001b[0;34m\u001b[0m\u001b[0m\n\u001b[0;32m----> 4\u001b[0;31m             \u001b[0;32mif\u001b[0m\u001b[0;34m(\u001b[0m\u001b[0mre\u001b[0m\u001b[0;34m.\u001b[0m\u001b[0mmatch\u001b[0m\u001b[0;34m(\u001b[0m\u001b[0;34m'^[0-9]'\u001b[0m\u001b[0;34m,\u001b[0m \u001b[0mline\u001b[0m\u001b[0;34m)\u001b[0m\u001b[0;34m)\u001b[0m\u001b[0;34m:\u001b[0m\u001b[0;34m\u001b[0m\u001b[0m\n\u001b[0m\u001b[1;32m      5\u001b[0m                 \u001b[0mqlines\u001b[0m\u001b[0;34m.\u001b[0m\u001b[0mappend\u001b[0m\u001b[0;34m(\u001b[0m\u001b[0mline\u001b[0m\u001b[0;34m)\u001b[0m\u001b[0;34m\u001b[0m\u001b[0m\n\u001b[1;32m      6\u001b[0m                 \u001b[0;32mpass\u001b[0m\u001b[0;34m\u001b[0m\u001b[0m\n",
      "\u001b[0;31mNameError\u001b[0m: global name 're' is not defined"
     ]
    }
   ],
   "source": [
    "readAndCreateCorpus()\n"
   ]
  },
  {
   "cell_type": "code",
   "execution_count": null,
   "metadata": {},
   "outputs": [],
   "source": []
  },
  {
   "cell_type": "code",
   "execution_count": 151,
   "metadata": {},
   "outputs": [],
   "source": [
    "document = Document(sentence, stemmer = LEMMA)\n",
    "pos = parse(sentence, lemmata = True)\n",
    "parse_tree = parsetree(sentence, lemmata = True)"
   ]
  },
  {
   "cell_type": "code",
   "execution_count": null,
   "metadata": {},
   "outputs": [],
   "source": []
  },
  {
   "cell_type": "code",
   "execution_count": null,
   "metadata": {},
   "outputs": [],
   "source": [
    "# pprint(parse(sentence, relations=True, lemmata=True))\n",
    "# pprint(parsetree(sentence, relations=True, lemmata=True))"
   ]
  },
  {
   "cell_type": "code",
   "execution_count": null,
   "metadata": {},
   "outputs": [],
   "source": []
  },
  {
   "cell_type": "code",
   "execution_count": 138,
   "metadata": {
    "collapsed": true
   },
   "outputs": [
    {
     "name": "stdout",
     "output_type": "stream",
     "text": [
      "This\n",
      "\n",
      "\n",
      "is\n",
      "\n",
      "\n",
      "a\n",
      "Definition : a metric unit of length equal to one ten billionth of a meter (or 0.0001 micron); used to specify wavelengths of electromagnetic radiation\n",
      "Synonyms : [u'angstrom', u'angstrom unit', u'A']\n",
      "Hypernyms : [Synset(u'metric linear unit')]\n",
      "Hyponyms : []\n",
      "Holonyms : [Synset(u'nanometer')]\n",
      "Meronyms : [Synset(u'picometer')]\n",
      "Definition : any of several fat-soluble vitamins essential for normal vision; prevents night blindness or inflammation or dryness of the eyes\n",
      "Synonyms : [u'vitamin A', u'antiophthalmic factor', u'axerophthol', u'A']\n",
      "Hypernyms : [Synset(u'fat-soluble vitamin')]\n",
      "Hyponyms : [Synset(u'vitamin A1'), Synset(u'vitamin A2')]\n",
      "Holonyms : []\n",
      "Meronyms : []\n",
      "Definition : one of the four nucleotides used in building DNA; all four nucleotides have a common phosphate group and a sugar (ribose)\n",
      "Synonyms : [u'deoxyadenosine monophosphate', u'A']\n",
      "Hypernyms : [Synset(u'nucleotide')]\n",
      "Hyponyms : []\n",
      "Holonyms : []\n",
      "Meronyms : []\n",
      "Definition : (biochemistry) purine base found in DNA and RNA; pairs with thymine in DNA and with uracil in RNA\n",
      "Synonyms : [u'adenine', u'A']\n",
      "Hypernyms : [Synset(u'purine')]\n",
      "Hyponyms : []\n",
      "Holonyms : []\n",
      "Meronyms : []\n",
      "Definition : the basic unit of electric current adopted under the Systeme International d'Unites; \"a typical household circuit carries 15 to 50 amps\"\n",
      "Synonyms : [u'ampere', u'amp', u'A']\n",
      "Hypernyms : [Synset(u'current unit')]\n",
      "Hyponyms : []\n",
      "Holonyms : [Synset(u'abampere')]\n",
      "Meronyms : [Synset(u'milliampere')]\n",
      "Definition : the 1st letter of the Roman alphabet\n",
      "Synonyms : [u'A', u'a']\n",
      "Hypernyms : [Synset(u'letter')]\n",
      "Hyponyms : []\n",
      "Holonyms : [Synset(u'Roman alphabet')]\n",
      "Meronyms : []\n",
      "Definition : the blood group whose red cells carry the A antigen\n",
      "Synonyms : [u'A', u'type A', u'group A']\n",
      "Hypernyms : [Synset(u'blood group')]\n",
      "Hyponyms : []\n",
      "Holonyms : []\n",
      "Meronyms : []\n",
      "\n",
      "\n",
      "test\n",
      "Definition : trying something to find out about it; \"a sample for ten days free trial\"; \"a trial of progesterone failed to relieve the pain\"\n",
      "Synonyms : [u'trial', u'trial run', u'test', u'tryout']\n",
      "Hypernyms : [Synset(u'experiment')]\n",
      "Hyponyms : [Synset(u'field trial'), Synset(u'alpha test'), Synset(u'beta test'), Synset(u'road test'), Synset(u'trial balloon')]\n",
      "Holonyms : []\n",
      "Meronyms : []\n",
      "Definition : any standardized procedure for measuring sensitivity or memory or intelligence or aptitude or personality etc; \"the test was standardized on a large sample of students\"\n",
      "Synonyms : [u'test', u'mental test', u'mental testing', u'psychometric test']\n",
      "Hypernyms : [Synset(u'mental measurement')]\n",
      "Hyponyms : [Synset(u'intelligence test'), Synset(u'personality test'), Synset(u'sub-test')]\n",
      "Holonyms : []\n",
      "Meronyms : []\n",
      "Definition : a set of questions or exercises evaluating skill or knowledge; \"when the test was stolen the professor had to make a new set of questions\"\n",
      "Synonyms : [u'examination', u'exam', u'test']\n",
      "Hypernyms : [Synset(u'communication')]\n",
      "Hyponyms : [Synset(u'bar examination'), Synset(u'comprehensive examination'), Synset(u'entrance examination'), Synset(u'final examination'), Synset(u'litmus test'), Synset(u'midterm examination'), Synset(u'oral'), Synset(u'preliminary examination'), Synset(u'quiz'), Synset(u'test paper'), Synset(u'tripos')]\n",
      "Holonyms : []\n",
      "Meronyms : []\n",
      "Definition : the act of undergoing testing; \"he survived the great test of battle\"; \"candidates must compete in a trial of skill\"\n",
      "Synonyms : [u'test', u'trial']\n",
      "Hypernyms : [Synset(u'attempt')]\n",
      "Hyponyms : []\n",
      "Holonyms : []\n",
      "Meronyms : []\n",
      "Definition : the act of testing something; \"in the experimental trials the amount of carbon was measured separately\"; \"he called each flip of the coin a new trial\"\n",
      "Synonyms : [u'test', u'trial', u'run']\n",
      "Hypernyms : [Synset(u'attempt')]\n",
      "Hyponyms : [Synset(u'assay'), Synset(u'clinical trial'), Synset(u'double blind'), Synset(u'preclinical trial'), Synset(u'audition'), Synset(u'field trial'), Synset(u'fitting'), Synset(u'MOT'), Synset(u'pilot project'), Synset(u'Snellen test')]\n",
      "Holonyms : []\n",
      "Meronyms : []\n",
      "Definition : a hard outer covering as of some amoebas and sea urchins\n",
      "Synonyms : [u'test']\n",
      "Hypernyms : [Synset(u'covering')]\n",
      "Hyponyms : []\n",
      "Holonyms : []\n",
      "Meronyms : []\n",
      "\n",
      "\n",
      "sentence\n",
      "Definition : a string of words satisfying the grammatical rules of a language; \"he always spoke in grammatical sentences\"\n",
      "Synonyms : [u'sentence']\n",
      "Hypernyms : [Synset(u'string of words')]\n",
      "Hyponyms : [Synset(u'simple sentence'), Synset(u'complex sentence'), Synset(u'compound sentence'), Synset(u'declarative sentence'), Synset(u'run-on sentence'), Synset(u'topic sentence'), Synset(u'question')]\n",
      "Holonyms : []\n",
      "Meronyms : [Synset(u'constituent'), Synset(u'clause')]\n",
      "Definition : (criminal law) a final judgment of guilty in a criminal case and the punishment that is imposed; \"the conviction came as no surprise\"\n",
      "Synonyms : [u'conviction', u'judgment of conviction', u'condemnation', u'sentence']\n",
      "Hypernyms : [Synset(u'final judgment')]\n",
      "Hyponyms : [Synset(u'murder conviction'), Synset(u'rape conviction'), Synset(u'robbery conviction')]\n",
      "Holonyms : []\n",
      "Meronyms : []\n",
      "Definition : the period of time a prisoner is imprisoned; \"he served a prison term of 15 months\"; \"his sentence was 5 to 10 years\"; \"he is doing time in the county jail\"\n",
      "Synonyms : [u'prison term', u'sentence', u'time']\n",
      "Hypernyms : [Synset(u'term')]\n",
      "Hyponyms : [Synset(u'hard time'), Synset(u'life sentence')]\n",
      "Holonyms : []\n",
      "Meronyms : []\n",
      "\n",
      "\n",
      "that\n",
      "\n",
      "\n",
      "will\n",
      "Definition : the capability of conscious choice and decision and intention; \"the exercise of their volition we construe as revolt\"- George Meredith\n",
      "Synonyms : [u'volition', u'will']\n",
      "Hypernyms : [Synset(u'faculty')]\n",
      "Hyponyms : [Synset(u'velleity')]\n",
      "Holonyms : []\n",
      "Meronyms : []\n",
      "Definition : a fixed and persistent intent or purpose; \"where there's a will there's a way\"\n",
      "Synonyms : [u'will']\n",
      "Hypernyms : [Synset(u'purpose')]\n",
      "Hyponyms : []\n",
      "Holonyms : []\n",
      "Meronyms : []\n",
      "Definition : a legal document declaring a person's wishes regarding the disposal of their property when they die\n",
      "Synonyms : [u'will', u'testament']\n",
      "Hypernyms : [Synset(u'legal document')]\n",
      "Hyponyms : [Synset(u'Old Testament'), Synset(u'New Testament'), Synset(u'devise')]\n",
      "Holonyms : []\n",
      "Meronyms : [Synset(u'codicil')]\n",
      "\n",
      "\n",
      "be\n",
      "Definition : a light strong brittle grey toxic bivalent metallic element\n",
      "Synonyms : [u'beryllium', u'Be', u'glucinium', u'atomic number 4']\n",
      "Hypernyms : [Synset(u'metallic element')]\n",
      "Hyponyms : []\n",
      "Holonyms : []\n",
      "Meronyms : []\n",
      "\n",
      "\n",
      "used\n",
      "\n",
      "\n",
      "to\n",
      "\n",
      "\n",
      "parse\n",
      "\n",
      "\n",
      "into\n",
      "\n",
      "\n",
      "a\n",
      "Definition : a metric unit of length equal to one ten billionth of a meter (or 0.0001 micron); used to specify wavelengths of electromagnetic radiation\n",
      "Synonyms : [u'angstrom', u'angstrom unit', u'A']\n",
      "Hypernyms : [Synset(u'metric linear unit')]\n",
      "Hyponyms : []\n",
      "Holonyms : [Synset(u'nanometer')]\n",
      "Meronyms : [Synset(u'picometer')]\n",
      "Definition : any of several fat-soluble vitamins essential for normal vision; prevents night blindness or inflammation or dryness of the eyes\n",
      "Synonyms : [u'vitamin A', u'antiophthalmic factor', u'axerophthol', u'A']\n",
      "Hypernyms : [Synset(u'fat-soluble vitamin')]\n",
      "Hyponyms : [Synset(u'vitamin A1'), Synset(u'vitamin A2')]\n",
      "Holonyms : []\n",
      "Meronyms : []\n",
      "Definition : one of the four nucleotides used in building DNA; all four nucleotides have a common phosphate group and a sugar (ribose)\n",
      "Synonyms : [u'deoxyadenosine monophosphate', u'A']\n",
      "Hypernyms : [Synset(u'nucleotide')]\n",
      "Hyponyms : []\n",
      "Holonyms : []\n",
      "Meronyms : []\n",
      "Definition : (biochemistry) purine base found in DNA and RNA; pairs with thymine in DNA and with uracil in RNA\n",
      "Synonyms : [u'adenine', u'A']\n",
      "Hypernyms : [Synset(u'purine')]\n",
      "Hyponyms : []\n",
      "Holonyms : []\n",
      "Meronyms : []\n",
      "Definition : the basic unit of electric current adopted under the Systeme International d'Unites; \"a typical household circuit carries 15 to 50 amps\"\n",
      "Synonyms : [u'ampere', u'amp', u'A']\n",
      "Hypernyms : [Synset(u'current unit')]\n",
      "Hyponyms : []\n",
      "Holonyms : [Synset(u'abampere')]\n",
      "Meronyms : [Synset(u'milliampere')]\n",
      "Definition : the 1st letter of the Roman alphabet\n",
      "Synonyms : [u'A', u'a']\n",
      "Hypernyms : [Synset(u'letter')]\n",
      "Hyponyms : []\n",
      "Holonyms : [Synset(u'Roman alphabet')]\n",
      "Meronyms : []\n",
      "Definition : the blood group whose red cells carry the A antigen\n",
      "Synonyms : [u'A', u'type A', u'group A']\n",
      "Hypernyms : [Synset(u'blood group')]\n",
      "Hyponyms : []\n",
      "Holonyms : []\n",
      "Meronyms : []\n",
      "\n",
      "\n",
      "parse\n",
      "\n",
      "\n",
      "tree\n",
      "Definition : a tall perennial woody plant having a main trunk and branches forming a distinct elevated crown; includes both gymnosperms and angiosperms\n",
      "Synonyms : [u'tree']\n",
      "Hypernyms : [Synset(u'woody plant')]\n",
      "Hyponyms : [Synset(u'yellowwood'), Synset(u'lancewood'), Synset(u'Guinea pepper'), Synset(u'anise tree'), Synset(u\"winter's bark\"), Synset(u'zebrawood'), Synset(u'granadilla tree'), Synset(u'acacia'), Synset(u'coralwood'), Synset(u'albizzia'), Synset(u'conacaste'), Synset(u'inga'), Synset(u'ice-cream bean'), Synset(u'guama'), Synset(u'lead tree'), Synset(u'wild tamarind'), Synset(u'nitta tree'), Synset(u'manila tamarind'), Synset(u'dita'), Synset(u'ivory tree'), Synset(u'puka'), Synset(u'cockspur'), Synset(u'pandanus'), Synset(u'lacebark'), Synset(u'ribbon tree'), Synset(u'tulipwood tree'), Synset(u'red silk-cotton tree'), Synset(u'Montezuma'), Synset(u'shaving-brush tree'), Synset(u'quandong'), Synset(u'Jamaican cherry'), Synset(u'breakax'), Synset(u'bottle-tree'), Synset(u'Chinese parasol tree'), Synset(u'mayeng'), Synset(u'silver tree'), Synset(u'obeche'), Synset(u'linden'), Synset(u'silver tree'), Synset(u'prickly ash'), Synset(u'wheel tree'), Synset(u'scrub beefwood'), Synset(u'casuarina'), Synset(u'beech'), Synset(u'chestnut'), Synset(u'oak chestnut'), Synset(u'giant chinkapin'), Synset(u'tanbark oak'), Synset(u'southern beech'), Synset(u'oak'), Synset(u'birch'), Synset(u'alder'), Synset(u'hornbeam'), Synset(u'hop hornbeam'), Synset(u'fringe tree'), Synset(u'ash'), Synset(u'devilwood'), Synset(u'dhawa'), Synset(u'button tree'), Synset(u'white mangrove'), Synset(u'bayberry'), Synset(u'gum tree'), Synset(u'poon'), Synset(u'calaba'), Synset(u'Maria'), Synset(u'laurelwood'), Synset(u'clusia'), Synset(u'wild fig'), Synset(u'rose chestnut'), Synset(u'souari'), Synset(u'dipterocarp'), Synset(u'ketembilla'), Synset(u'chaulmoogra'), Synset(u'Hydnocarpus laurifolia'), Synset(u'idesia'), Synset(u'Australian nettle'), Synset(u'fig tree'), Synset(u'elm'), Synset(u'hackberry'), Synset(u'cabbage tree'), Synset(u'bonduc'), Synset(u'divi-divi'), Synset(u'brazilwood'), Synset(u'brazilian ironwood'), Synset(u'shingle tree'), Synset(u'msasa'), Synset(u'cassia'), Synset(u'locust tree'), Synset(u'Kentucky coffee tree'), Synset(u'palo verde'), Synset(u'angelim'), Synset(u'camwood'), Synset(u'dhak'), Synset(u'rosewood'), Synset(u'sissoo'), Synset(u'kingwood'), Synset(u'cocobolo'), Synset(u'blackwood'), Synset(u'coral tree'), Synset(u'gliricidia'), Synset(u'millettia'), Synset(u'tolu tree'), Synset(u'Peruvian balsam'), Synset(u'necklace tree'), Synset(u'Jamaica dogwood'), Synset(u'quira'), Synset(u'Indian beech'), Synset(u'bloodwood tree'), Synset(u'padauk'), Synset(u'Burma padauk'), Synset(u'kino'), Synset(u'red sandalwood'), Synset(u'carib wood'), Synset(u'scarlet wisteria tree'), Synset(u'Japanese pagoda tree'), Synset(u'mescal bean'), Synset(u'kowhai'), Synset(u'tipu'), Synset(u'keurboom'), Synset(u'keurboom'), Synset(u'palm'), Synset(u'dagame'), Synset(u'coffee'), Synset(u'cinchona'), Synset(u'opepe'), Synset(u'lemonwood'), Synset(u'wild medlar'), Synset(u'Spanish tamarind'), Synset(u'incense tree'), Synset(u'mahogany'), Synset(u'chinaberry'), Synset(u'neem'), Synset(u'satinwood'), Synset(u'silver ash'), Synset(u'lanseh tree'), Synset(u'African walnut'), Synset(u'turreae'), Synset(u'lepidobotrys'), Synset(u'caracolito'), Synset(u'cork tree'), Synset(u'trifoliate orange'), Synset(u'prickly ash'), Synset(u'bitterwood tree'), Synset(u'pepper tree'), Synset(u'willow'), Synset(u'sandalwood tree'), Synset(u'quandong'), Synset(u'aalii'), Synset(u'soapberry'), Synset(u'aroeira blanca'), Synset(u'pepper tree'), Synset(u'Brazilian pepper tree'), Synset(u'ebony'), Synset(u'marblewood'), Synset(u'balata'), Synset(u'gutta-percha tree'), Synset(u'gutta-percha tree'), Synset(u'marmalade tree'), Synset(u'Christmas bush'), Synset(u'plane tree'), Synset(u'calabash'), Synset(u'princewood'), Synset(u'white mangrove'), Synset(u'black mangrove'), Synset(u'teak'), Synset(u'snag'), Synset(u'timber tree'), Synset(u'treelet'), Synset(u'arbor'), Synset(u'bean tree'), Synset(u'pollard'), Synset(u'sapling'), Synset(u'shade tree'), Synset(u'gymnospermous tree'), Synset(u'angiospermous tree'), Synset(u'fever tree'), Synset(u'bonsai'), Synset(u'nakedwood'), Synset(u'hazel'), Synset(u'tree of knowledge')]\n",
      "Holonyms : [Synset(u'forest')]\n",
      "Meronyms : [Synset(u'stump'), Synset(u'crown'), Synset(u'limb'), Synset(u'trunk'), Synset(u'burl')]\n",
      "Definition : a figure that branches from a single root; \"genealogical tree\"\n",
      "Synonyms : [u'tree', u'tree diagram']\n",
      "Hypernyms : [Synset(u'plane figure')]\n",
      "Hyponyms : [Synset(u'cladogram'), Synset(u'stemma')]\n",
      "Holonyms : []\n",
      "Meronyms : []\n",
      "Definition : English actor and theatrical producer noted for his lavish productions of Shakespeare (1853-1917)\n",
      "Synonyms : [u'Tree', u'Sir Herbert Beerbohm Tree']\n",
      "Hypernyms : [Synset(u'actor'), Synset(u'theatrical producer')]\n",
      "Hyponyms : []\n",
      "Holonyms : []\n",
      "Meronyms : []\n",
      "\n",
      "\n",
      "and\n",
      "\n",
      "\n",
      "various\n",
      "\n",
      "\n",
      "other\n",
      "\n",
      "\n",
      "things\n",
      "Definition : any movable possession (especially articles of clothing); \"she packed her things and left\"\n",
      "Synonyms : [u'things']\n",
      "Hypernyms : [Synset(u'property')]\n",
      "Hyponyms : []\n",
      "Holonyms : []\n",
      "Meronyms : []\n",
      "\n",
      "\n",
      "like\n",
      "Definition : a similar kind; \"dogs, foxes, and the like\", \"we don't want the likes of you around here\"\n",
      "Synonyms : [u'like', u'the like', u'the likes of']\n",
      "Hypernyms : [Synset(u'kind')]\n",
      "Hyponyms : []\n",
      "Holonyms : []\n",
      "Meronyms : []\n",
      "Definition : a kind of person; \"We'll not see his like again\"; \"I can't tolerate people of his ilk\"\n",
      "Synonyms : [u'like', u'ilk']\n",
      "Hypernyms : [Synset(u'kind')]\n",
      "Hyponyms : []\n",
      "Holonyms : []\n",
      "Meronyms : []\n",
      "\n",
      "\n",
      "spies.\n",
      "\n",
      "\n"
     ]
    }
   ],
   "source": [
    "for word in sentence.split():\n",
    "    synsetList = wordnet.synsets(word)\n",
    "    \n",
    "    print(word)\n",
    "    for synset in synsetList:\n",
    "        print(\"Definition : {}\".format(synset.gloss))\n",
    "        print(\"Synonyms : {}\".format(synset.synonyms))\n",
    "        print(\"Hypernyms : {}\".format(synset.hypernyms()))\n",
    "        print(\"Hyponyms : {}\".format(synset.hyponyms()))\n",
    "        print(\"Holonyms : {}\".format(synset.holonyms()))\n",
    "        print(\"Meronyms : {}\".format(synset.meronyms()))\n",
    "        pass\n",
    "    \n",
    "    print(\"\\n\")\n",
    "    pass"
   ]
  },
  {
   "cell_type": "code",
   "execution_count": null,
   "metadata": {},
   "outputs": [],
   "source": []
  },
  {
   "cell_type": "code",
   "execution_count": 167,
   "metadata": {},
   "outputs": [
    {
     "data": {
      "text/plain": [
       "<pattern.vector.LSA at 0x7f35e77b3390>"
      ]
     },
     "execution_count": 167,
     "metadata": {},
     "output_type": "execute_result"
    }
   ],
   "source": [
    "lsa = Model([document, Document(s)])\n",
    "lsa.reduce(2)"
   ]
  },
  {
   "cell_type": "code",
   "execution_count": 170,
   "metadata": {},
   "outputs": [],
   "source": [
    "lsa.terms\n",
    "lsa.train()"
   ]
  },
  {
   "cell_type": "code",
   "execution_count": 172,
   "metadata": {},
   "outputs": [],
   "source": [
    "lsa.predict(\"A sentence this is\")"
   ]
  },
  {
   "cell_type": "code",
   "execution_count": 180,
   "metadata": {},
   "outputs": [
    {
     "name": "stdout",
     "output_type": "stream",
     "text": [
      "\n",
      "\n",
      "None\n",
      "(u'sentence', 0.353553390593274)\n",
      "(u'test', 0.353553390593274)\n",
      "(u'parse', 0.707106781186547)\n",
      "(u'tree', 0.353553390593274)\n",
      "(u'spy', 0.353553390593274)\n",
      "\n",
      "\n",
      "None\n",
      "(u'vent', 0.113960576459638)\n",
      "(u'bearing', 0.113960576459638)\n",
      "(u'attached', 0.113960576459638)\n",
      "(u'39th', 0.113960576459638)\n",
      "(u'weather', 0.113960576459638)\n",
      "(u'ready', 0.113960576459638)\n",
      "(u'gaseous', 0.113960576459638)\n",
      "(u'hydrogen', 0.227921152919276)\n",
      "(u'grounded', 0.113960576459638)\n",
      "(u'space', 0.113960576459638)\n",
      "(u'leak', 0.227921152919276)\n",
      "(u'window', 0.113960576459638)\n",
      "(u'station', 0.113960576459638)\n",
      "(u'potentially', 0.113960576459638)\n",
      "(u'closed', 0.113960576459638)\n",
      "(u'shuttle', 0.227921152919276)\n",
      "(u'supplies', 0.113960576459638)\n",
      "(u'intelligent', 0.113960576459638)\n",
      "(u'final', 0.113960576459638)\n",
      "(u'discovery', 0.227921152919276)\n",
      "(u'conclude', 0.113960576459638)\n",
      "(u'flight', 0.341881729378914)\n",
      "(u'monday', 0.341881729378914)\n",
      "(u'ship\\u02bcs', 0.113960576459638)\n",
      "(u'initially', 0.113960576459638)\n",
      "(u'friday', 0.227921152919276)\n",
      "(u'delayed', 0.227921152919276)\n",
      "(u'external', 0.113960576459638)\n",
      "(u'international', 0.113960576459638)\n",
      "(u'line', 0.113960576459638)\n",
      "(u'tank', 0.113960576459638)\n",
      "(u'launch', 0.113960576459638)\n",
      "(u'technical', 0.113960576459638)\n",
      "(u'dangerous', 0.113960576459638)\n",
      "(u'robot', 0.113960576459638)\n",
      "(u'times', 0.113960576459638)\n",
      "(u'bad', 0.113960576459638)\n",
      "(u'nasa', 0.113960576459638)\n",
      "(u'complications', 0.113960576459638)\n",
      "(u'time', 0.113960576459638)\n",
      "(u'scheduled', 0.113960576459638)\n",
      "(u'fresh', 0.113960576459638)\n",
      "(u'led', 0.113960576459638)\n"
     ]
    }
   ],
   "source": [
    "m = Model([document, Document(s)])\n",
    "m.reduce(2)\n",
    "\n",
    "for d in m.documents:\n",
    "    print(\"\\n\")\n",
    "    print(d.name)\n",
    "    for concept, w1 in m.lsa.vectors[d.id].items():\n",
    "        for feature, w2 in m.lsa.concepts[concept].items():\n",
    "            if w1 != 0 and w2 != 0:\n",
    "                print((feature, w1 * w2))\n",
    "                pass\n",
    "            pass\n",
    "        pass\n",
    "    pass"
   ]
  },
  {
   "cell_type": "code",
   "execution_count": null,
   "metadata": {},
   "outputs": [],
   "source": []
  },
  {
   "cell_type": "code",
   "execution_count": 191,
   "metadata": {},
   "outputs": [],
   "source": [
    "svm = SVM()\n",
    "svm.train(document)"
   ]
  },
  {
   "cell_type": "code",
   "execution_count": 196,
   "metadata": {},
   "outputs": [
    {
     "name": "stdout",
     "output_type": "stream",
     "text": [
      "[None]\n",
      "None\n"
     ]
    }
   ],
   "source": [
    "print(svm.classes)\n",
    "print(svm.classify(Document(\"A sentence this is\")))"
   ]
  },
  {
   "cell_type": "code",
   "execution_count": null,
   "metadata": {},
   "outputs": [],
   "source": []
  },
  {
   "cell_type": "code",
   "execution_count": 91,
   "metadata": {},
   "outputs": [],
   "source": [
    "document.wordcount"
   ]
  },
  {
   "cell_type": "code",
   "execution_count": 31,
   "metadata": {},
   "outputs": [],
   "source": [
    "Document(\"Installing collected packages. Found existing installation\").wordcount"
   ]
  },
  {
   "cell_type": "code",
   "execution_count": 102,
   "metadata": {},
   "outputs": [
    {
     "data": {
      "text/plain": [
       "{u'parse': 0.4, u'sentence': 0.2, u'test': 0.2, u'tree': 0.2}"
      ]
     },
     "execution_count": 102,
     "metadata": {},
     "output_type": "execute_result"
    }
   ],
   "source": [
    "Document(\"This is a test sentence that will be used to parse into a parse tree and various other things.\", stemmer = LEMMA).vector"
   ]
  },
  {
   "cell_type": "code",
   "execution_count": null,
   "metadata": {},
   "outputs": [],
   "source": []
  },
  {
   "cell_type": "code",
   "execution_count": 64,
   "metadata": {},
   "outputs": [
    {
     "name": "stdout",
     "output_type": "stream",
     "text": [
      "[(0.16666666666666663, u'flight'), (0.16666666666666663, u'monday'), (0.11111111111111108, u'delayed'), (0.11111111111111108, u'discovery'), (0.11111111111111108, u'friday'), (0.11111111111111108, u'hydrogen')]\n"
     ]
    }
   ],
   "source": [
    "s = '''\n",
    "     The shuttle Discovery, already delayed three times by technical problems \n",
    "     and bad weather, was grounded again Friday, this time by a potentially \n",
    "     dangerous gaseous hydrogen leak in a vent line attached to the shipʼs \n",
    "     external tank. The Discovery was initially scheduled to make its 39th \n",
    "     and final flight last Monday, bearing fresh supplies and an intelligent \n",
    "     robot for the International Space Station. But complications delayed the \n",
    "     flight from Monday to Friday,  when the hydrogen leak led NASA to conclude \n",
    "     that the shuttle would not be ready to launch before its flight window \n",
    "     closed this Monday.\n",
    "'''\n",
    "d = Document(s, threshold=1)\n",
    "print(d.keywords(top=6))"
   ]
  },
  {
   "cell_type": "code",
   "execution_count": 50,
   "metadata": {},
   "outputs": [
    {
     "data": {
      "text/plain": [
       "[(0.16666666666666663, u'flight'),\n",
       " (0.16666666666666663, u'monday'),\n",
       " (0.11111111111111108, u'delayed'),\n",
       " (0.11111111111111108, u'discovery'),\n",
       " (0.11111111111111108, u'friday'),\n",
       " (0.11111111111111108, u'hydrogen'),\n",
       " (0.11111111111111108, u'leak'),\n",
       " (0.11111111111111108, u'shuttle')]"
      ]
     },
     "execution_count": 50,
     "metadata": {},
     "output_type": "execute_result"
    }
   ],
   "source": [
    "d.keywords()"
   ]
  },
  {
   "cell_type": "code",
   "execution_count": 62,
   "metadata": {},
   "outputs": [
    {
     "name": "stdout",
     "output_type": "stream",
     "text": [
      "          WORD   TAG    CHUNK   ROLE   ID     PNP    LEMMA   \n",
      "                                                             \n",
      "           The   DT     NP      -      -      -      -       \n",
      "       shuttle   NN     NP ^    -      -      -      -       \n",
      "     Discovery   NNP    NP ^    -      -      -      -       \n",
      "             ,   ,      -       -      -      -      -       \n",
      "       already   RB     VP      -      -      -      -       \n",
      "       delayed   VBN    VP ^    -      -      -      -       \n",
      "         three   CD     NP      -      -      -      -       \n",
      "         times   NNS    NP ^    -      -      -      -       \n",
      "            by   IN     PP      -      -      PNP    -       \n",
      "     technical   JJ     NP      -      -      PNP    -       \n",
      "      problems   NNS    NP ^    -      -      PNP    -       \n",
      "           and   CC     -       -      -      -      -       \n",
      "           bad   JJ     NP      -      -      -      -       \n",
      "       weather   NN     NP ^    -      -      -      -       \n",
      "             ,   ,      -       -      -      -      -       \n",
      "           was   VBD    VP      -      -      -      -       \n",
      "      grounded   VBN    VP ^    -      -      -      -       \n",
      "         again   RB     ADVP    -      -      -      -       \n",
      "        Friday   NNP    NP      -      -      -      -       \n",
      "             ,   ,      -       -      -      -      -       \n",
      "          this   DT     NP      -      -      -      -       \n",
      "          time   NN     NP ^    -      -      -      -       \n",
      "            by   IN     PP      -      -      PNP    -       \n",
      "             a   DT     NP      -      -      PNP    -       \n",
      "   potentially   RB     NP ^    -      -      PNP    -       \n",
      "     dangerous   JJ     NP ^    -      -      PNP    -       \n",
      "       gaseous   JJ     NP ^    -      -      PNP    -       \n",
      "      hydrogen   NN     NP ^    -      -      PNP    -       \n",
      "          leak   NN     NP ^    -      -      PNP    -       \n",
      "            in   IN     PP      -      -      PNP    -       \n",
      "             a   DT     NP      -      -      PNP    -       \n",
      "          vent   NN     NP ^    -      -      PNP    -       \n",
      "          line   NN     NP ^    -      -      PNP    -       \n",
      "      attached   VBN    VP      -      -      PNP    -       \n",
      "            to   TO     -       -      -      -      -       \n",
      "           the   DT     NP      -      -      -      -       \n",
      "        shipʼs   JJ     NP ^    -      -      -      -       \n",
      "      external   JJ     NP ^    -      -      -      -       \n",
      "          tank   NN     NP ^    -      -      -      -       \n",
      "             .   .      -       -      -      -      -       \n",
      "\n",
      "          WORD   TAG    CHUNK   ROLE   ID     PNP    LEMMA   \n",
      "                                                             \n",
      "           The   DT     NP      -      -      -      -       \n",
      "     Discovery   NNP    NP ^    -      -      -      -       \n",
      "           was   VBD    VP      -      -      -      -       \n",
      "     initially   RB     VP ^    -      -      -      -       \n",
      "     scheduled   VBN    VP ^    -      -      -      -       \n",
      "            to   TO     VP ^    -      -      -      -       \n",
      "          make   VB     VP ^    -      -      -      -       \n",
      "           its   PRP$   NP      -      -      -      -       \n",
      "          39th   JJ     NP ^    -      -      -      -       \n",
      "           and   CC     NP ^    -      -      -      -       \n",
      "         final   JJ     NP ^    -      -      -      -       \n",
      "        flight   NN     NP ^    -      -      -      -       \n",
      "          last   JJ     NP      -      -      -      -       \n",
      "        Monday   NNP    NP ^    -      -      -      -       \n",
      "             ,   ,      -       -      -      -      -       \n",
      "       bearing   VBG    VP      -      -      -      -       \n",
      "         fresh   JJ     NP      -      -      -      -       \n",
      "      supplies   NNS    NP ^    -      -      -      -       \n",
      "           and   CC     -       -      -      -      -       \n",
      "            an   DT     NP      -      -      -      -       \n",
      "   intelligent   JJ     NP ^    -      -      -      -       \n",
      "         robot   NN     NP ^    -      -      -      -       \n",
      "           for   IN     PP      -      -      PNP    -       \n",
      "           the   DT     NP      -      -      PNP    -       \n",
      " International   NNP    NP ^    -      -      PNP    -       \n",
      "         Space   NNP    NP ^    -      -      PNP    -       \n",
      "       Station   NNP    NP ^    -      -      PNP    -       \n",
      "             .   .      -       -      -      -      -       \n",
      "\n",
      "          WORD   TAG    CHUNK   ROLE   ID     PNP    LEMMA   \n",
      "                                                             \n",
      "           But   CC     -       -      -      -      -       \n",
      " complications   NNS    NP      -      -      -      -       \n",
      "       delayed   VBD    VP      -      -      -      -       \n",
      "           the   DT     NP      -      -      -      -       \n",
      "        flight   NN     NP ^    -      -      -      -       \n",
      "          from   IN     PP      -      -      PNP    -       \n",
      "        Monday   NNP    NP      -      -      PNP    -       \n",
      "            to   TO     -       -      -      -      -       \n",
      "        Friday   NNP    NP      -      -      -      -       \n",
      "             ,   ,      -       -      -      -      -       \n",
      "          when   WRB    -       -      -      -      -       \n",
      "           the   DT     NP      -      -      -      -       \n",
      "      hydrogen   NN     NP ^    -      -      -      -       \n",
      "          leak   NN     NP ^    -      -      -      -       \n",
      "           led   VBD    VP      -      -      -      -       \n",
      "          NASA   NNP    NP      -      -      -      -       \n",
      "            to   TO     VP      -      -      -      -       \n",
      "      conclude   VB     VP ^    -      -      -      -       \n",
      "          that   IN     PP      -      -      PNP    -       \n",
      "           the   DT     NP      -      -      PNP    -       \n",
      "       shuttle   NN     NP ^    -      -      PNP    -       \n",
      "         would   MD     VP      -      -      -      -       \n",
      "           not   RB     VP ^    -      -      -      -       \n",
      "            be   VB     VP ^    -      -      -      -       \n",
      "         ready   JJ     ADJP    -      -      -      -       \n",
      "            to   TO     VP      -      -      -      -       \n",
      "        launch   VB     VP ^    -      -      -      -       \n",
      "        before   IN     PP      -      -      PNP    -       \n",
      "           its   PRP$   NP      -      -      PNP    -       \n",
      "        flight   NN     NP ^    -      -      PNP    -       \n",
      "        window   NN     NP ^    -      -      PNP    -       \n",
      "        closed   VBD    VP      -      -      -      -       \n",
      "          this   DT     NP      -      -      -      -       \n",
      "        Monday   NNP    NP ^    -      -      -      -       \n",
      "             .   .      -       -      -      -      -       \n"
     ]
    }
   ],
   "source": [
    "pprint(parse(s))"
   ]
  },
  {
   "cell_type": "code",
   "execution_count": 93,
   "metadata": {},
   "outputs": [
    {
     "data": {
      "text/plain": [
       "[Sentence('The/DT/B-NP/O shuttle/NN/I-NP/O Discovery/NNP/I-NP/O ,/,/O/O already/RB/B-VP/O delayed/VBN/I-VP/O three/CD/B-NP/O times/NNS/I-NP/O by/IN/B-PP/B-PNP technical/JJ/B-NP/I-PNP problems/NNS/I-NP/I-PNP and/CC/O/O bad/JJ/B-NP/O weather/NN/I-NP/O ,/,/O/O was/VBD/B-VP/O grounded/VBN/I-VP/O again/RB/B-ADVP/O Friday/NNP/B-NP/O ,/,/O/O this/DT/B-NP/O time/NN/I-NP/O by/IN/B-PP/B-PNP a/DT/B-NP/I-PNP potentially/RB/I-NP/I-PNP dangerous/JJ/I-NP/I-PNP gaseous/JJ/I-NP/I-PNP hydrogen/NN/I-NP/I-PNP leak/NN/I-NP/I-PNP in/IN/B-PP/B-PNP a/DT/B-NP/I-PNP vent/NN/I-NP/I-PNP line/NN/I-NP/I-PNP attached/VBN/B-VP/I-PNP to/TO/O/O the/DT/B-NP/O ship\\xca\\xbcs/JJ/I-NP/O external/JJ/I-NP/O tank/NN/I-NP/O ././O/O'),\n",
       " Sentence('The/DT/B-NP/O Discovery/NNP/I-NP/O was/VBD/B-VP/O initially/RB/I-VP/O scheduled/VBN/I-VP/O to/TO/I-VP/O make/VB/I-VP/O its/PRP$/B-NP/O 39th/JJ/I-NP/O and/CC/I-NP/O final/JJ/I-NP/O flight/NN/I-NP/O last/JJ/B-NP/O Monday/NNP/I-NP/O ,/,/O/O bearing/VBG/B-VP/O fresh/JJ/B-NP/O supplies/NNS/I-NP/O and/CC/O/O an/DT/B-NP/O intelligent/JJ/I-NP/O robot/NN/I-NP/O for/IN/B-PP/B-PNP the/DT/B-NP/I-PNP International/NNP/I-NP/I-PNP Space/NNP/I-NP/I-PNP Station/NNP/I-NP/I-PNP ././O/O'),\n",
       " Sentence('But/CC/O/O complications/NNS/B-NP/O delayed/VBD/B-VP/O the/DT/B-NP/O flight/NN/I-NP/O from/IN/B-PP/B-PNP Monday/NNP/B-NP/I-PNP to/TO/O/O Friday/NNP/B-NP/O ,/,/O/O when/WRB/O/O the/DT/B-NP/O hydrogen/NN/I-NP/O leak/NN/I-NP/O led/VBD/B-VP/O NASA/NNP/B-NP/O to/TO/B-VP/O conclude/VB/I-VP/O that/IN/B-PP/B-PNP the/DT/B-NP/I-PNP shuttle/NN/I-NP/I-PNP would/MD/B-VP/O not/RB/I-VP/O be/VB/I-VP/O ready/JJ/B-ADJP/O to/TO/B-VP/O launch/VB/I-VP/O before/IN/B-PP/B-PNP its/PRP$/B-NP/I-PNP flight/NN/I-NP/I-PNP window/NN/I-NP/I-PNP closed/VBD/B-VP/O this/DT/B-NP/O Monday/NNP/I-NP/O ././O/O')]"
      ]
     },
     "execution_count": 93,
     "metadata": {},
     "output_type": "execute_result"
    }
   ],
   "source": [
    "parsetree(s, tokenize=True)"
   ]
  },
  {
   "cell_type": "code",
   "execution_count": null,
   "metadata": {},
   "outputs": [],
   "source": []
  }
 ],
 "metadata": {
  "kernelspec": {
   "display_name": "Python 2",
   "language": "python",
   "name": "python2"
  },
  "language_info": {
   "codemirror_mode": {
    "name": "ipython",
    "version": 2
   },
   "file_extension": ".py",
   "mimetype": "text/x-python",
   "name": "python",
   "nbconvert_exporter": "python",
   "pygments_lexer": "ipython2",
   "version": "2.7.14"
  }
 },
 "nbformat": 4,
 "nbformat_minor": 2
}
