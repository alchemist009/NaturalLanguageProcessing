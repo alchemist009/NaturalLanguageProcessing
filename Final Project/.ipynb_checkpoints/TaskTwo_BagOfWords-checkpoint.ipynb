{
 "cells": [
  {
   "cell_type": "code",
   "execution_count": 1,
   "metadata": {},
   "outputs": [
    {
     "name": "stdout",
     "output_type": "stream",
     "text": [
      "hi\n"
     ]
    }
   ],
   "source": [
    "%config IPCompleter.greedy = True\n",
    "from collections import Counter\n",
    "from sklearn.feature_extraction.text import CountVectorizer\n",
    "import re\n",
    "import collections\n",
    "print(\"hi\")\n",
    "\n",
    "qlines = []\n",
    "alines = []"
   ]
  },
  {
   "cell_type": "code",
   "execution_count": 2,
   "metadata": {},
   "outputs": [],
   "source": [
    "with open(\"FAQs.txt\") as f:\n",
    "    for line in f:\n",
    "        if(re.match('^[0-9]', line)):\n",
    "            #print(line)\n",
    "            qlines.append(line)\n",
    "        elif(re.match('^[A.]', line)):\n",
    "#             print(line)\n",
    "            alines.append(line)"
   ]
  },
  {
   "cell_type": "code",
   "execution_count": 3,
   "metadata": {},
   "outputs": [
    {
     "name": "stdout",
     "output_type": "stream",
     "text": [
      "['A. You can pay using a credit or debit card. You can also use your GameLink points to pay for items.\\n', 'A. Yes, you can definitely pre-order games on our site. Some games also offer pre-order bonuses and discounts.\\n', 'A. Yes, you can get a refund for a game if you apply for it within 15 days of purchase. Please refrain from misusing this feature.\\n', 'A. After purchasing a game on the site, you will need to download and install the GameLink client. The game can then be downloaded and installed from within the client.\\n', 'A. Yes, we have an extensive library of Indie games and also run special events to support indie developers.\\n', 'A. Yes, we do have DRM free games on offer.\\n', 'A. Yes, we have a massive library of games categorized under 15 different genres.\\n', 'A. Yes, we do support multiplayer for a larger number of games.\\n', 'A. Yes, some games allow you to set up your own local server.\\n', 'A. Yes, we have our own server for account verification and support.\\n', 'A. Yes, game developers maintain their own servers.\\n', 'A. Yes, we have an achievement system which allows you to earn reward points.\\n', 'A. Yes, achievements translate into reward points that you can use in the store to make purchases.\\n', 'A. Yes, you can play over LAN or by connecting to a common remote server.\\n', 'A. Some games allow installation on multiple systems but it varies from game to game.\\n', 'A. No, all participants in a LAN party need to have the game downloaded and installed.\\n', 'A. Each game is rigorously tested by our team of quality assurance engineers before it becomes available on the store.\\n', 'A. Yes, it is possible to link games purchased elsewhere and installed on your system. Our client automatically detects them.\\n', 'A. Unfortunately we do not allow account sharing.\\n', 'A. You can link upto 3 systems with a single account.\\n', 'A. No, you can not play multiple games simultaneously as it creates conflicts in server requests and can lead to unexpected crashes.\\n', 'A. Some games need a constant connection to their servers.This info will be displayed on the gameâ€™s purchase page.\\n', 'A. No, some games are locked to a region and are only available in certain countries. This is explicitly specified on the gameâ€™s purchase page.\\n', 'A. Yes, it is possible to play games in different countries provided they have a approved rating and adhere to local laws.\\n', 'A. Yes, you may sometimes be required to download certain language packs but nothing more than that.\\n', 'A. Some games do provide level editors and content editors. They may require a separate purchase as expansion packs in some cases.\\n', 'A. Although we do allow modding of games for personal offline use, modded versions are not allowed on our service.\\n', 'A. The minimum requirements for the game client are: Intel Pentium Core2 Duo processor, 256 MB graphic memory, 1 GB system RAM, 300 MB disk space, Windows 7,8 or 10\\n', 'A. Yes, the client must be kept running in the background while playing games.\\n', 'A. No, games purchased on GameLink can only be downloaded and played through the official client.\\n', 'A. Yes, you can play games in any of the languages available in the store.\\n', 'A. It depends on a specific game. Some games require your to be connected to the internet for translation while some require installation of internal language packs available from the publisher.\\n', 'A. No, we do not support community translations.\\n', 'A. Yes, but you would need to raise a ticket with on our support page.\\n', 'A. If the games are hosted on our servers, you would require a new account to play, For games hosted on any other server or offline games you can play even after deleting your account.\\n', 'A. Upon getting banned from your account, you will have 30 days to download all your games after which your account will be removed permanently.\\n', 'A. Some games have an in-game chat while some donâ€™t.\\n', 'A. No, but we are working on it. Keep your fingers crossed.\\n', 'A. Streaming games is permitted as long as you credit the game publishers and developers.\\n', 'A. Yes, DLC are available for a lot of games.\\n', 'A. Yes, some publishers do make OST available separately.\\n', 'A. We have partnerships with various game guide publishers.\\n', 'A. Some publishers do offer concept art as part of season passes as pre-order bonuses.\\n', 'A. The games hosted on our servers do not include microtransactions but some publishers may include those in their games.\\n', 'A. Some free to play games might have microtransactions.\\n', 'A. Yes, some games host players from all over the world.\\n', 'A. Yes, you would need to register as a developer or publisher and pay the necessary fees.\\n', 'A. Yes, but they wonâ€™t be supported officially.\\n', 'A. Yes, but some mods might not be officially supported and would be marked as such.\\n', 'A. Only mainstream desktop OS are supported.\\n', 'A. We do not support consoles but multiplayer on a single system is indeed supported.\\n', 'A. No, achievements have to be earned.\\n', 'A. No, but we are working on it.\\n', 'A. No, that would violate the terms of service and may be considered piracy.\\n', 'A. Yes, an online connection ensures all your game saves are synced online.\\n']\n"
     ]
    }
   ],
   "source": [
    "print(alines)"
   ]
  },
  {
   "cell_type": "code",
   "execution_count": 4,
   "metadata": {},
   "outputs": [],
   "source": [
    "#print(qlines)"
   ]
  },
  {
   "cell_type": "code",
   "execution_count": 5,
   "metadata": {},
   "outputs": [],
   "source": [
    "corpus = []\n",
    "for i in range(len(qlines)):\n",
    "    corpus.append(qlines[i] + alines[i])"
   ]
  },
  {
   "cell_type": "code",
   "execution_count": 6,
   "metadata": {},
   "outputs": [],
   "source": [
    "#print(corpus[0])"
   ]
  },
  {
   "cell_type": "code",
   "execution_count": 7,
   "metadata": {},
   "outputs": [
    {
     "name": "stdout",
     "output_type": "stream",
     "text": [
      "Counter({'can': 2, 'You': 2, 'pay': 2, 'A': 1, 'to': 1, 'support': 1, 'also': 1, 'items': 1, '1': 1, 'or': 1, 'points': 1, 'credit': 1, 'do': 1, 'a': 1, 'card': 1, 'GameLink': 1, 'use': 1, 'debit': 1, 'your': 1, 'What': 1, 'using': 1, 'payment': 1, 'you': 1, 'ways': 1, 'for': 1})\n"
     ]
    }
   ],
   "source": [
    "bagofwords = [collections.Counter(re.findall(r'\\w+', txt)) for txt in corpus]\n",
    "print(bagofwords[0])"
   ]
  },
  {
   "cell_type": "code",
   "execution_count": 8,
   "metadata": {},
   "outputs": [],
   "source": [
    "# Calculating the match score for the input query against each of the FAQs\n",
    "\n",
    "def match_qa_pair(input_bag):\n",
    "    match_score = dict()\n",
    "    for word in input_bag:\n",
    "        for w in word:\n",
    "            for i in range(len(bagofwords)):\n",
    "                if( w in bagofwords[i].keys()):\n",
    "                    match_score[i] = match_score.get(i, 0) + 1\n",
    "                else:\n",
    "                    match_score[i] = 0\n",
    "    #print(match_score)\n",
    "    maximum = max(match_score.items(), key=lambda k : k[1])\n",
    "    #print(maximum[0])\n",
    "    for key in match_score:\n",
    "        if key == maximum[0]:\n",
    "            print(\"The matching question is: \" + qlines[key])\n",
    "            print(\"The matching answer is: \" + alines[key])"
   ]
  },
  {
   "cell_type": "code",
   "execution_count": 11,
   "metadata": {},
   "outputs": [],
   "source": [
    "# Get a query from the user\n",
    "\n",
    "def get_query():\n",
    "    user_input = input(\"\\nEnter the test sentence.\\n\")\n",
    "    #print(user_input)\n",
    "    inputbag = [collections.Counter(re.findall(r'\\w+', user_input.lower()))]\n",
    "    match_qa_pair(inputbag)"
   ]
  },
  {
   "cell_type": "code",
   "execution_count": null,
   "metadata": {},
   "outputs": [
    {
     "name": "stdout",
     "output_type": "stream",
     "text": [
      "\n",
      "Enter the test sentence.\n",
      "Allow account sharing?\n",
      "The matching question is: 19. How many people can share an account?\n",
      "\n",
      "The matching answer is: A. Unfortunately we do not allow account sharing.\n",
      "\n",
      "\n",
      "Enter the test sentence.\n",
      "genres of games?\n",
      "The matching question is: 7. Do you have games categorised by genres?\n",
      "\n",
      "The matching answer is: A. Yes, we have a massive library of games categorized under 15 different genres.\n",
      "\n",
      "\n",
      "Enter the test sentence.\n",
      "mod\n",
      "The matching question is: 1. What ways do you support payment?\n",
      "\n",
      "The matching answer is: A. You can pay using a credit or debit card. You can also use your GameLink points to pay for items.\n",
      "\n",
      "\n",
      "Enter the test sentence.\n",
      "mods\n",
      "The matching question is: 27. Do you allow mods for games?\n",
      "\n",
      "The matching answer is: A. Although we do allow modding of games for personal offline use, modded versions are not allowed on our service.\n",
      "\n"
     ]
    }
   ],
   "source": [
    "for i in range(9):\n",
    "    get_query()"
   ]
  },
  {
   "cell_type": "code",
   "execution_count": null,
   "metadata": {},
   "outputs": [],
   "source": []
  }
 ],
 "metadata": {
  "kernelspec": {
   "display_name": "Python 3",
   "language": "python",
   "name": "python3"
  },
  "language_info": {
   "codemirror_mode": {
    "name": "ipython",
    "version": 3
   },
   "file_extension": ".py",
   "mimetype": "text/x-python",
   "name": "python",
   "nbconvert_exporter": "python",
   "pygments_lexer": "ipython3",
   "version": "3.5.3"
  }
 },
 "nbformat": 4,
 "nbformat_minor": 2
}
