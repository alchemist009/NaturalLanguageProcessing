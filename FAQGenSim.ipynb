{
 "cells": [
  {
   "cell_type": "code",
   "execution_count": null,
   "metadata": {},
   "outputs": [],
   "source": []
  },
  {
   "cell_type": "raw",
   "metadata": {},
   "source": [
    "import platform\n",
    "platform.architecture()"
   ]
  },
  {
   "cell_type": "raw",
   "metadata": {},
   "source": [
    "import sys\n",
    "sys.version\n",
    "# sys.version_info"
   ]
  },
  {
   "cell_type": "code",
   "execution_count": null,
   "metadata": {},
   "outputs": [],
   "source": []
  },
  {
   "cell_type": "code",
   "execution_count": 1,
   "metadata": {},
   "outputs": [
    {
     "name": "stderr",
     "output_type": "stream",
     "text": [
      "c:\\python37\\lib\\site-packages\\gensim\\utils.py:1197: UserWarning: detected Windows; aliasing chunkize to chunkize_serial\n",
      "  warnings.warn(\"detected Windows; aliasing chunkize to chunkize_serial\")\n"
     ]
    }
   ],
   "source": [
    "import gensim\n",
    "from gensim.models import doc2vec, KeyedVectors\n",
    "from gensim.models.doc2vec import Doc2Vec, LabeledSentence\n",
    "\n",
    "import numpy as np\n",
    "\n",
    "import pyemd\n",
    "\n",
    "import re"
   ]
  },
  {
   "cell_type": "code",
   "execution_count": null,
   "metadata": {},
   "outputs": [],
   "source": []
  },
  {
   "cell_type": "code",
   "execution_count": 4,
   "metadata": {},
   "outputs": [],
   "source": [
    "qlines = list()\n",
    "alines = list()\n",
    "# corpus = list()\n",
    "documents = list()\n",
    "qaDocs = list()\n",
    "# container = list()\n",
    "container = dict()"
   ]
  },
  {
   "cell_type": "code",
   "execution_count": 5,
   "metadata": {},
   "outputs": [],
   "source": [
    "def readAndCreateCorpus():\n",
    "    with open(\"FAQs.txt\") as f:\n",
    "        for line in f:\n",
    "            if(re.match(r\"^[0-9]{1,}.\", line)):\n",
    "                question = re.sub(r\"^[0-9]{1,}. (.*)\", \"\\\\1\", line)\n",
    "                qlines.append(question)\n",
    "                pass\n",
    "            elif(re.match(r\"^[A].\", line)):\n",
    "                answer = re.sub(r\"^[A]. (.*)\", \"\\\\1\", line)\n",
    "                alines.append(answer)\n",
    "                pass\n",
    "            pass\n",
    "        pass\n",
    "    \n",
    "    for i in range(len(qlines)):\n",
    "        qa = qlines[i] + alines[i]\n",
    "        # corpus.append(qa)\n",
    "        # documents.append({\"Q\" : qlines[i], \"A\" : alines[i]})\n",
    "        documents.append(qa)\n",
    "        pass\n",
    "    pass"
   ]
  },
  {
   "cell_type": "code",
   "execution_count": 6,
   "metadata": {},
   "outputs": [],
   "source": [
    "readAndCreateCorpus()"
   ]
  },
  {
   "cell_type": "code",
   "execution_count": null,
   "metadata": {},
   "outputs": [],
   "source": []
  },
  {
   "cell_type": "code",
   "execution_count": 2,
   "metadata": {},
   "outputs": [],
   "source": [
    "word_vectors = KeyedVectors.load_word2vec_format('GoogleNews-vectors-negative300.bin', binary=True)"
   ]
  },
  {
   "cell_type": "code",
   "execution_count": 8,
   "metadata": {},
   "outputs": [
    {
     "data": {
      "text/plain": [
       "'cereal'"
      ]
     },
     "execution_count": 8,
     "metadata": {},
     "output_type": "execute_result"
    }
   ],
   "source": [
    "word_vectors.doesnt_match(\"breakfast cereal dinner lunch\".split())"
   ]
  },
  {
   "cell_type": "code",
   "execution_count": 32,
   "metadata": {},
   "outputs": [
    {
     "name": "stdout",
     "output_type": "stream",
     "text": [
      "distance = 2.007\n"
     ]
    }
   ],
   "source": [
    "s1 = \"What ways do you support payment?\"\n",
    "s2 = \"In what ways can I pay for games?\"\n",
    "s3 = \"Can I play hockey?\"\n",
    "s4 = \"Can I play hockey after I get home and take a shower\"\n",
    "s5 = \"Do you support multiplayer? \\n Yes, we do support multiplayer for a larger number of games.\"\n",
    "s6 = \"Can I invite my friends to play games? \\n Yes, you can play over LAN or by connecting to a common remote server.\"\n",
    "\n",
    "s7 = \"I am called The Raj\"\n",
    "\n",
    "\n",
    "#calculate distance between two sentences using WMD algorithm\n",
    "distance = word_vectors.wmdistance(s5, s7)\n",
    "\n",
    "print ('distance = %.3f' % distance)"
   ]
  },
  {
   "cell_type": "code",
   "execution_count": null,
   "metadata": {},
   "outputs": [],
   "source": []
  }
 ],
 "metadata": {
  "kernelspec": {
   "display_name": "Python 3",
   "language": "python",
   "name": "python3"
  },
  "language_info": {
   "codemirror_mode": {
    "name": "ipython",
    "version": 3
   },
   "file_extension": ".py",
   "mimetype": "text/x-python",
   "name": "python",
   "nbconvert_exporter": "python",
   "pygments_lexer": "ipython3",
   "version": "3.7.0b3"
  }
 },
 "nbformat": 4,
 "nbformat_minor": 2
}
